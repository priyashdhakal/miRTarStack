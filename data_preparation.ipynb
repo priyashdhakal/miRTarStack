{
 "cells": [
  {
   "cell_type": "code",
   "execution_count": 19,
   "metadata": {},
   "outputs": [],
   "source": [
    "import os\n",
    "import csv\n",
    "import os.path as osp\n",
    "import torch\n",
    "from Bio import pairwise2\n",
    "import shutil\n",
    "import pandas as pd"
   ]
  },
  {
   "cell_type": "code",
   "execution_count": 20,
   "metadata": {},
   "outputs": [],
   "source": [
    "BASE_DIR = os.getcwd()\n",
    "\n",
    "DATA_DIR = osp.join(BASE_DIR, 'Data')"
   ]
  },
  {
   "cell_type": "code",
   "execution_count": 21,
   "metadata": {},
   "outputs": [],
   "source": [
    "FILENAME = osp.join(DATA_DIR, 'miRAW_Train_Validation.txt')"
   ]
  },
  {
   "cell_type": "code",
   "execution_count": 22,
   "metadata": {},
   "outputs": [],
   "source": [
    "PROCESSED_FILE = osp.join(DATA_DIR, 'processed_file.csv')"
   ]
  },
  {
   "cell_type": "code",
   "execution_count": 6,
   "metadata": {},
   "outputs": [],
   "source": [
    "def reverse(seq):\n",
    "    \"\"\" reverse the given sequence \"\"\"\n",
    "    seq_r = \"\"\n",
    "    for i in range(len(seq)):\n",
    "        seq_r = seq[::-1]\n",
    "    return seq_r"
   ]
  },
  {
   "cell_type": "code",
   "execution_count": 7,
   "metadata": {},
   "outputs": [],
   "source": [
    "score_matrix = {}  # Allow A-U wobble\n",
    "for c1 in 'ACGU':\n",
    "    for c2 in 'ACGU':\n",
    "        if (c1, c2) in [('A', 'U'), ('U', 'A'), ('G', 'C'), ('C', 'G')]:\n",
    "            score_matrix[(c1, c2)] = 1\n",
    "        elif (c1, c2) in [('U', 'G'), ('G', 'U')]:\n",
    "            score_matrix[(c1, c2)] = 1\n",
    "        else:\n",
    "            score_matrix[(c1, c2)] = 0\n",
    "\n",
    "\n",
    "def extended_seed_alignment(mi_seq, cts_r_seq):\n",
    "    \"\"\" extended seed alignment \"\"\"\n",
    "    alignment = pairwise2.align.globaldx(mi_seq[:10], cts_r_seq[5:15], score_matrix, one_alignment_only=True)[0]\n",
    "    mi_esa = str(alignment[0])\n",
    "    cts_r_esa = str(alignment[1])\n",
    "    esa_score = alignment[2]\n",
    "    return mi_esa, cts_r_esa, esa_score"
   ]
  },
  {
   "cell_type": "code",
   "execution_count": 8,
   "metadata": {},
   "outputs": [],
   "source": [
    "def process_Train_val_file(filename, split_idx=None):\n",
    "    foldername = filename.split(\".\")[0]\n",
    "    folderpath = osp.join(DATA_DIR, foldername, '')    \n",
    "    \n",
    "    try:\n",
    "        shutil.rmtree(folderpath)\n",
    "    except Exception as e:\n",
    "        print(e)\n",
    "\n",
    "    os.mkdir(folderpath)\n",
    "    \n",
    "    with open(osp.join(DATA_DIR, filename), \"r\") as f, open(osp.join(folderpath, f'{foldername}.csv'), 'w') as file:        \n",
    "        HEADER = [\"miRNA\", \"miRNA_esa\", \"rev_mRNA\", \"mRNA_CTS_esa\", \"esa_score\", \"Label\", \"Split\"]\n",
    "        writer = csv.writer(file)\n",
    "        writer.writerow(HEADER)\n",
    "        lines = f.readlines()\n",
    "        for i, line in enumerate(lines[1:]): \n",
    "            tokens = line.strip().split(\"\\t\")\n",
    "            mirna_id, mirna_seq, mrna_id, mrna_seq = tokens[:4]\n",
    "            label = float(tokens[4]) if len(tokens) > 4 else 0\n",
    "            sp = None if len(tokens) == 5 else tokens[-1]\n",
    "            if split_idx in [\"train\", \"val\"] and tokens[5] != split_idx: continue\n",
    "\n",
    "            mirna_seq = mirna_seq.upper().replace(\"T\", \"U\")\n",
    "            mrna_seq = mrna_seq.upper().replace(\"T\", \"U\")\n",
    "            mrna_rev_seq = reverse(mrna_seq)\n",
    "\n",
    "\n",
    "            for pos in range(len(mrna_rev_seq) - 40 + 1):\n",
    "                mr_slid = mrna_rev_seq[pos: pos + 40]\n",
    "                mi_esa, r_cts_esa, esa_score = extended_seed_alignment(mirna_seq, mr_slid)\n",
    "                if esa_score >= 6.0:\n",
    "                    new_line = [mirna_seq, mi_esa, mr_slid, r_cts_esa, esa_score, label, sp]\n",
    "                    writer.writerow(new_line)\n",
    "    return None"
   ]
  },
  {
   "cell_type": "code",
   "execution_count": 9,
   "metadata": {},
   "outputs": [],
   "source": [
    "process_Train_val_file('miRAW_Train_Validation.txt')"
   ]
  },
  {
   "cell_type": "code",
   "execution_count": 10,
   "metadata": {},
   "outputs": [],
   "source": [
    "def process_file(filename, split_idx=None):\n",
    "    foldername = filename.split(\".\")[0]\n",
    "    folderpath = osp.join(DATA_DIR, foldername)\n",
    "    \n",
    "    with open(filename, \"r\") as f:\n",
    "        lines = f.readlines()\n",
    "    \n",
    "        try:\n",
    "            shutil.rmtree(folderpath)\n",
    "        except Exception as e:\n",
    "            print(e)\n",
    "\n",
    "        os.mkdir(folderpath)    \n",
    "\n",
    "        for i, line in enumerate(lines[1:]):\n",
    "            with open(osp.join(folderpath, f'seq{i}.csv'), 'w') as file:\n",
    "                HEADER = [\"miRNA\", \"miRNA_esa\", \"rev_mRNA\", \"mRNA_CTS_esa\", \"esa_score\", \"Label\", \"Split\"]\n",
    "                writer = csv.writer(file)\n",
    "                writer.writerow(HEADER)\n",
    "\n",
    "                tokens = line.strip().split(\"\\t\")\n",
    "                mirna_id, mirna_seq, mrna_id, mrna_seq = tokens[:4]\n",
    "                label = float(tokens[4]) if len(tokens) > 4 else 0\n",
    "                sp = None if len(tokens) == 5 else tokens[-1]\n",
    "                if split_idx in [\"train\", \"val\"] and tokens[5] != split_idx: continue\n",
    "\n",
    "                mirna_seq = mirna_seq.upper().replace(\"T\", \"U\")\n",
    "                mrna_seq = mrna_seq.upper().replace(\"T\", \"U\")\n",
    "                mrna_rev_seq = reverse(mrna_seq)\n",
    "\n",
    "   \n",
    "                for pos in range(len(mrna_rev_seq) - 40 + 1):\n",
    "                    mr_slid = mrna_rev_seq[pos: pos + 40]\n",
    "                    mi_esa, r_cts_esa, esa_score = extended_seed_alignment(mirna_seq, mr_slid)\n",
    "                    if esa_score >= 6.0:\n",
    "                        line = [mirna_seq, mi_esa, mr_slid, r_cts_esa, esa_score, label, sp]\n",
    "                        writer.writerow(line)\n",
    "    return None\n"
   ]
  },
  {
   "cell_type": "code",
   "execution_count": 11,
   "metadata": {},
   "outputs": [],
   "source": [
    "# INPUT_FILES_LIST = [osp.join(DATA_DIR,'miRAW_Train_Validation.txt')]\n",
    "for i in range(0, 10):\n",
    "    input_file = osp.join(DATA_DIR, f'miRAW_Test{i}.txt')\n",
    "    process_file(input_file)\n",
    "#     INPUT_FILES_LIST.append(input_file)"
   ]
  },
  {
   "cell_type": "code",
   "execution_count": null,
   "metadata": {},
   "outputs": [],
   "source": []
  }
 ],
 "metadata": {
  "kernelspec": {
   "display_name": "Python 3 (ipykernel)",
   "language": "python",
   "name": "python3"
  },
  "language_info": {
   "codemirror_mode": {
    "name": "ipython",
    "version": 3
   },
   "file_extension": ".py",
   "mimetype": "text/x-python",
   "name": "python",
   "nbconvert_exporter": "python",
   "pygments_lexer": "ipython3",
   "version": "3.9.15"
  },
  "vscode": {
   "interpreter": {
    "hash": "8c278ecde0750515b427f690f4cc34b2541364d37bb05d72818ea6332b86dc24"
   }
  }
 },
 "nbformat": 4,
 "nbformat_minor": 2
}
